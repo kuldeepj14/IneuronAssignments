{
 "cells": [
  {
   "cell_type": "markdown",
   "metadata": {},
   "source": [
    "# Python Assignment 1"
   ]
  },
  {
   "cell_type": "markdown",
   "metadata": {},
   "source": [
    "1. Write a Python program to find those numbers which are divisible by 7 and multiple of 5, between 1500 and 2700 (both included).\n"
   ]
  },
  {
   "cell_type": "code",
   "execution_count": 10,
   "metadata": {},
   "outputs": [
    {
     "name": "stdout",
     "output_type": "stream",
     "text": [
      "[1505, 1540, 1575, 1610, 1645, 1680, 1715, 1750, 1785, 1820, 1855, 1890, 1925, 1960, 1995, 2030, 2065, 2100, 2135, 2170, 2205, 2240, 2275, 2310, 2345, 2380, 2415, 2450, 2485, 2520, 2555, 2590, 2625, 2660, 2695]\n"
     ]
    }
   ],
   "source": [
    "def divisibleNums(x, y):\n",
    "    divisibleNumList = []\n",
    "    for i in range(x, y+1):\n",
    "        if (i%7 == 0) and (i%5 == 0):\n",
    "            divisibleNumList.append(i)\n",
    "    print(divisibleNumList)\n",
    "\n",
    "divisibleNums(1500, 2700)"
   ]
  },
  {
   "cell_type": "markdown",
   "metadata": {},
   "source": [
    "2. Python program to add two numbers"
   ]
  },
  {
   "cell_type": "code",
   "execution_count": 5,
   "metadata": {},
   "outputs": [
    {
     "name": "stdout",
     "output_type": "stream",
     "text": [
      "Sum of 45 and 3 is:  48\n"
     ]
    }
   ],
   "source": [
    "def addNums(x, y):\n",
    "    addTwoNumbers = x + y \n",
    "    print(f\"Sum of {x} and {y} is: \", addTwoNumbers)\n",
    "\n",
    "addNums(45,3)"
   ]
  },
  {
   "cell_type": "markdown",
   "metadata": {},
   "source": [
    "3. Maximum of two numbers in Python"
   ]
  },
  {
   "cell_type": "code",
   "execution_count": 7,
   "metadata": {},
   "outputs": [
    {
     "name": "stdout",
     "output_type": "stream",
     "text": [
      "150 is greater then 134.\n"
     ]
    }
   ],
   "source": [
    "def findMaxNum(x, y):\n",
    "    if x > y:\n",
    "        print(f\"{x} is greater then {y}.\")\n",
    "    elif x < y:\n",
    "        print(f\"{y} is greater then {x}.\")\n",
    "    else:\n",
    "        print(f\"both numbers are equal.\")\n",
    "\n",
    "findMaxNum(150, 134)"
   ]
  },
  {
   "cell_type": "markdown",
   "metadata": {},
   "source": [
    "4. Python Program for factorial of a number"
   ]
  },
  {
   "cell_type": "code",
   "execution_count": 8,
   "metadata": {},
   "outputs": [
    {
     "name": "stdout",
     "output_type": "stream",
     "text": [
      "Factorial of 12 is 479001600\n"
     ]
    }
   ],
   "source": [
    "def numFactorial(num):\n",
    "    fac = 1\n",
    "    if num<0:\n",
    "        print(\"Factorial does not exist for negative numbers\")\n",
    "    elif num==0:\n",
    "        print(\"Factorial of 0 is 1\")\n",
    "    else:\n",
    "        for i in range(1, num+1):\n",
    "            fac = fac * i\n",
    "        print(f\"Factorial of {num} is {fac}\")\n",
    "        \n",
    "numFactorial(12)"
   ]
  },
  {
   "cell_type": "markdown",
   "metadata": {},
   "source": [
    "5. Python Program for simple interest"
   ]
  },
  {
   "cell_type": "code",
   "execution_count": null,
   "metadata": {},
   "outputs": [],
   "source": [
    "def findSimpleInterest():\n",
    "    principal = int(input(\"What is the amount: \"))\n",
    "    interest = float(input(\"What is the interest: \"))\n",
    "    time = float(input(\"What is the duration for which the principal amount is given: \"))\n",
    "    simpleInterest = ( principal * interest * time ) / 100\n",
    "    print(f\"Simple interest s: {simpleInterest}\")\n",
    "    \n",
    "findSimpleInterest()"
   ]
  },
  {
   "cell_type": "markdown",
   "metadata": {},
   "source": [
    "6. Python Program for compound interest"
   ]
  },
  {
   "cell_type": "code",
   "execution_count": null,
   "metadata": {},
   "outputs": [],
   "source": [
    "def findCompundInterest():\n",
    "    principal = int(input(\"What is the amount: \"))\n",
    "    interest = float(input(\"What is the interest: \"))\n",
    "    time = float(input(\"What is the duration for which the principal amount is given: \"))\n",
    "    amount = principal * (1 + (interest/100)) ** time\n",
    "    compoundInterest = amount - principal\n",
    "    print(f\"Compound Interest Value: {compoundInterest}\")\n",
    "    \n",
    "findCompundInterest()"
   ]
  },
  {
   "cell_type": "markdown",
   "metadata": {},
   "source": [
    "7. Python Program to check Armstrong Number"
   ]
  },
  {
   "cell_type": "code",
   "execution_count": 24,
   "metadata": {},
   "outputs": [
    {
     "name": "stdout",
     "output_type": "stream",
     "text": [
      "Enter a Number: 407\n",
      "407 is a Armstrong Number\n"
     ]
    }
   ],
   "source": [
    "def findArmstrongNumber():\n",
    "    num = input(\"Enter a Number: \")\n",
    "    power = len(num)\n",
    "    sumNum = 0\n",
    "    for i in num:\n",
    "        square = int(i)**power\n",
    "        sumNum+=square\n",
    "    \n",
    "    if sumNum == int(num):\n",
    "        print(f\"{num} is a Armstrong Number\")\n",
    "    else:\n",
    "        print(f\"{num} is not an Armstrong Number\")\n",
    "\n",
    "findArmstrongNumber()"
   ]
  },
  {
   "cell_type": "markdown",
   "metadata": {},
   "source": [
    "8. Python Program for Program to find area of a circle"
   ]
  },
  {
   "cell_type": "code",
   "execution_count": 2,
   "metadata": {},
   "outputs": [
    {
     "name": "stdout",
     "output_type": "stream",
     "text": [
      "Enter the circlce radius: 10\n",
      "Area of cirlce of radius 10 is 314.2857142857143\n"
     ]
    }
   ],
   "source": [
    "def circleArea():\n",
    "    circleRadius = int(input(\"Enter the circlce radius: \"))\n",
    "    area = (22/7) * circleRadius**2\n",
    "    print(f\"Area of cirlce of radius {circleRadius} is {area}\")\n",
    "    \n",
    "circleArea()"
   ]
  },
  {
   "cell_type": "markdown",
   "metadata": {},
   "source": [
    "9. Python program to print all Prime numbers in an Interva"
   ]
  },
  {
   "cell_type": "code",
   "execution_count": 14,
   "metadata": {},
   "outputs": [
    {
     "name": "stdout",
     "output_type": "stream",
     "text": [
      "[101, 103, 107, 109, 113, 127, 131, 137, 139, 149, 151, 157, 163, 167, 173, 179, 181, 191, 193, 197, 199, 211, 223, 227, 229, 233, 239, 241, 251, 257, 263, 269, 271, 277, 281, 283, 293]\n"
     ]
    }
   ],
   "source": [
    "def primeNumbers(x, y):\n",
    "    primeNumbersList = []\n",
    "    for num in range(x, y+1):\n",
    "        if num > 1 :\n",
    "            for i in range(2, num):\n",
    "                if (num % i) == 0:\n",
    "                    break\n",
    "            else:\n",
    "                primeNumbersList.append(num)\n",
    "    print(primeNumbersList)\n",
    "\n",
    "primeNumbers(100,300)"
   ]
  },
  {
   "cell_type": "markdown",
   "metadata": {},
   "source": [
    "10. Python program to check whether a number is Prime or not"
   ]
  },
  {
   "cell_type": "code",
   "execution_count": 53,
   "metadata": {},
   "outputs": [
    {
     "name": "stdout",
     "output_type": "stream",
     "text": [
      "104 is not a prime number\n"
     ]
    }
   ],
   "source": [
    "def findPrimeNumber(x):\n",
    "    if x > 1 :\n",
    "        for i in range(2, x):\n",
    "            if (x % i) == 0:\n",
    "                print(f\"{x} is not a prime number\")\n",
    "                break\n",
    "        else:\n",
    "            print(f\"{x} is a prime number\")\n",
    "    else:\n",
    "        print(f\"{x} is not a prime number\")\n",
    "    \n",
    "findPrimeNumber(104)"
   ]
  }
 ],
 "metadata": {
  "kernelspec": {
   "display_name": "Python 3",
   "language": "python",
   "name": "python3"
  },
  "language_info": {
   "codemirror_mode": {
    "name": "ipython",
    "version": 3
   },
   "file_extension": ".py",
   "mimetype": "text/x-python",
   "name": "python",
   "nbconvert_exporter": "python",
   "pygments_lexer": "ipython3",
   "version": "3.7.6"
  }
 },
 "nbformat": 4,
 "nbformat_minor": 4
}
